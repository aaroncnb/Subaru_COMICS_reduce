{
 "cells": [
  {
   "cell_type": "markdown",
   "metadata": {},
   "source": [
    "Once q_all.sh and q_iraf_all are finished, please run this!\n",
    "This script picks up after the sky subtraction and bad pixel correction,\n",
    "and proceeds with the FLUX calibration.\n",
    "These steps partly require the rbin C codes, and partly depend\n",
    "on the fortran codes provided by Sakon-san"
   ]
  },
  {
   "cell_type": "code",
   "execution_count": 1,
   "metadata": {
    "collapsed": false
   },
   "outputs": [
    {
     "name": "stdout",
     "output_type": "stream",
     "text": []
    }
   ],
   "source": [
    "q_list_stat NL_STD_A01N.fits 1 - 53-77 1 STD1P.fits\n",
    "q_list_stat NL_STD_A01N.fits 1 - 166-190 1 STD1N.fits\n",
    "q_arith STD1P.fits - STD1N.fits S1\n",
    "q_arith S1 x 0.5 STD_NL.fits"
   ]
  },
  {
   "cell_type": "code",
   "execution_count": 2,
   "metadata": {
    "collapsed": false
   },
   "outputs": [
    {
     "name": "stdout",
     "output_type": "stream",
     "text": []
    }
   ],
   "source": [
    "q_list_stat STD_NL.fits 1 - : : | awk '{print $2,$5*25.0}' > STD_NL.ADU"
   ]
  },
  {
   "cell_type": "code",
   "execution_count": 3,
   "metadata": {
    "collapsed": false
   },
   "outputs": [
    {
     "name": "stdout",
     "output_type": "stream",
     "text": [
      "open: 'new' file exists\r\n",
      "apparent state: unit 11 named STD_NL_FILTER_FL.TXT\r\n",
      "lately writing direct unformatted external IO\r\n",
      "Aborted\r\n"
     ]
    }
   ],
   "source": [
    "g77 -o test_fc FC_STD.f\n",
    "./test_fc"
   ]
  },
  {
   "cell_type": "code",
   "execution_count": 4,
   "metadata": {
    "collapsed": false
   },
   "outputs": [
    {
     "name": "stdout",
     "output_type": "stream",
     "text": [
      "open: 'new' file exists\r\n",
      "apparent state: unit 11 named STD_NL_FILTER_320x80_FL.TXT\r\n",
      "lately writing direct unformatted external IO\r\n",
      "Aborted\r\n"
     ]
    }
   ],
   "source": [
    "g77 -o test_fc_320x80 FC_STD_320x80.f\n",
    "./test_fc_320x80"
   ]
  },
  {
   "cell_type": "markdown",
   "metadata": {},
   "source": [
    "OUTPUT FILE; STD_NL_FILTER_FL.TXT\n",
    "IN UNITS OF \"W cm-2 um-1 / SLIT WIDTH (pixel)\""
   ]
  },
  {
   "cell_type": "code",
   "execution_count": 6,
   "metadata": {
    "collapsed": false
   },
   "outputs": [
    {
     "name": "stdout",
     "output_type": "stream",
     "text": []
    }
   ],
   "source": [
    "q_mkimg STD_NL_FILTER_FL.TXT STD_NL_FILTER_FL.fits 320 240 > /dev/null\n",
    "q_mkimg STD_NL_FILTER_320x80_FL.TXT STD_NL_FILTER_320x80_FL.fits 320 80 > /dev/null"
   ]
  },
  {
   "cell_type": "code",
   "execution_count": 8,
   "metadata": {
    "collapsed": false
   },
   "outputs": [
    {
     "name": "stdout",
     "output_type": "stream",
     "text": []
    }
   ],
   "source": [
    "q_list_stat NL_SLIT1_interp_hotfix.fits 1 - - 1 | awk '{print $2,$3,$5}' > NL_SLIT1.TXT\n",
    "paste NL_SLIT1.TXT | awk '{print $3}' > NL_SLIT1.ADU\n",
    "q_mkimg NL_SLIT1.ADU NL_SLIT1_320x80.fits 320 80 > /dev/null"
   ]
  },
  {
   "cell_type": "code",
   "execution_count": 9,
   "metadata": {
    "collapsed": false
   },
   "outputs": [
    {
     "name": "stdout",
     "output_type": "stream",
     "text": []
    }
   ],
   "source": [
    "q_arith NL_SLIT1_320x80.fits x STD_NL_FILTER_320x80_FL.fits NL_SLIT1_320x80_Wcm-2um-1.fits \n",
    "q_arith NL_SLIT1_320x80.fits x STD_NL_FILTER_320x80_FN.fits NL_SLIT1_320x80_JY.fits "
   ]
  },
  {
   "cell_type": "code",
   "execution_count": 10,
   "metadata": {
    "collapsed": false
   },
   "outputs": [
    {
     "name": "stdout",
     "output_type": "stream",
     "text": []
    }
   ],
   "source": [
    "q_list_stat NL_SLIT1_320x80_Wcm-2um-1.fits 1 - 35:48 1 | awk '{print $2*0.0198899992+6.94999981,$5*14}' > SLIT1_Y35-48_Wcm-2um-1.SPC\n",
    "q_list_stat NL_SLIT1_320x80_Wcm-2um-1.fits 1 - 16:30 1 | awk '{print $2*0.0198899992+6.94999981,$5*15}' > SLIT1_Y16-30_Wcm-2um-1.SPC\n"
   ]
  },
  {
   "cell_type": "code",
   "execution_count": null,
   "metadata": {
    "collapsed": true
   },
   "outputs": [],
   "source": []
  }
 ],
 "metadata": {
  "kernelspec": {
   "display_name": "Bash",
   "language": "bash",
   "name": "bash"
  },
  "language_info": {
   "codemirror_mode": "shell",
   "file_extension": ".sh",
   "mimetype": "text/x-sh",
   "name": "bash"
  }
 },
 "nbformat": 4,
 "nbformat_minor": 0
}
